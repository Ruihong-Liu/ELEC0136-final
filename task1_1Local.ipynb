{
 "cells": [
  {
   "cell_type": "markdown",
   "metadata": {},
   "source": [
    "1. creat a function to request the Microsoft stock data through Alpha Vantage"
   ]
  },
  {
   "cell_type": "code",
   "execution_count": 1,
   "metadata": {},
   "outputs": [],
   "source": [
    "##import the libaray of requests and json\n",
    "import  requests\n",
    "import json"
   ]
  },
  {
   "cell_type": "code",
   "execution_count": 2,
   "metadata": {},
   "outputs": [],
   "source": [
    "##creat the function that use to apply the data\n",
    "def aqu_stock_data(symbol,api_key):\n",
    "    ##endpoint API from alpha vantage\n",
    "    url=\"https://www.alphavantage.co/query\"\n",
    "    params={\n",
    "        ##requests data daily\n",
    "        \"function\":\"TIME_SERIES_DAILY\",\n",
    "        ##choosing company\n",
    "        \"symbol\":symbol,\n",
    "        ##size of the data\n",
    "        \"outputsize\":\"full\",\n",
    "        ##user API key\n",
    "        \"apikey\":api_key\n",
    "    }\n",
    "\n",
    "    ##requests from URL\n",
    "    response = requests.get(url,params)\n",
    "    \n",
    "    ##check if the data requried is successed\n",
    "    if response.status_code == 200:\n",
    "        return response.json()\n",
    "    else:\n",
    "        print(\"could not use API\")"
   ]
  },
  {
   "cell_type": "code",
   "execution_count": 3,
   "metadata": {},
   "outputs": [],
   "source": [
    "##input API key and choose the company which is Microsoft\n",
    "##API key\n",
    "#api_key='ON5BZ9UVB3BC2CCA'\n",
    "api_key='TVQPPAU7D3SY0U1R'\n",
    "\n",
    "\n",
    "##chose the company symbol\n",
    "symbol  =   \"MSFT\"\n",
    "\n",
    "##require data\n",
    "stock_data = aqu_stock_data(symbol,api_key)"
   ]
  },
  {
   "cell_type": "code",
   "execution_count": 4,
   "metadata": {},
   "outputs": [
    {
     "name": "stdout",
     "output_type": "stream",
     "text": [
      "{'Information': 'Thank you for using Alpha Vantage! Our standard API rate limit is 25 requests per day. Please subscribe to any of the premium plans at https://www.alphavantage.co/premium/ to instantly remove all daily rate limits.'}\n"
     ]
    }
   ],
   "source": [
    "if stock_data:\n",
    "    # save the response content to a file\n",
    "    with open(\"Microsoft Original.json\", \"w\") as f:\n",
    "        json.dump(stock_data, f)\n",
    "\n",
    "    # read the response content from the file\n",
    "    with open(\"Microsoft Original.json\", \"r\") as f:\n",
    "        stock_data_loaded = json.load(f)\n",
    "        assert stock_data == stock_data_loaded\n",
    "        print(stock_data_loaded)\n",
    "else:\n",
    "    print(\"data requests fail\")"
   ]
  }
 ],
 "metadata": {
  "kernelspec": {
   "display_name": "daps",
   "language": "python",
   "name": "python3"
  },
  "language_info": {
   "codemirror_mode": {
    "name": "ipython",
    "version": 3
   },
   "file_extension": ".py",
   "mimetype": "text/x-python",
   "name": "python",
   "nbconvert_exporter": "python",
   "pygments_lexer": "ipython3",
   "version": "3.11.5"
  }
 },
 "nbformat": 4,
 "nbformat_minor": 2
}
